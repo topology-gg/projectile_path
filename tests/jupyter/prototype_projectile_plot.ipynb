{
 "cells": [
  {
   "cell_type": "markdown",
   "id": "700a09bb",
   "metadata": {},
   "source": [
    "## Imports"
   ]
  },
  {
   "cell_type": "code",
   "execution_count": 49,
   "id": "7d7134bf",
   "metadata": {},
   "outputs": [],
   "source": [
    "import matplotlib.pyplot as plt\n",
    "import numpy as np"
   ]
  },
  {
   "cell_type": "markdown",
   "id": "b04dd2ed",
   "metadata": {},
   "source": [
    "## Inputs"
   ]
  },
  {
   "cell_type": "code",
   "execution_count": 50,
   "id": "ac10d3a4",
   "metadata": {},
   "outputs": [],
   "source": [
    "# Number of points to plot\n",
    "num_pts = 20\n",
    "# Launch angle in degrees: -180 <= theta_0_deg <= +180\n",
    "theta_0_deg = 25\n",
    "# Launch velocity magnitude: v_0 = ~100 is enough to reach top of plot area on vertical shot\n",
    "v_0 = 100"
   ]
  },
  {
   "cell_type": "markdown",
   "id": "8e2ec1b1",
   "metadata": {},
   "source": [
    "## Constants"
   ]
  },
  {
   "cell_type": "code",
   "execution_count": 51,
   "id": "2494abc5",
   "metadata": {},
   "outputs": [],
   "source": [
    "#\n",
    "# Math constants\n",
    "#\n",
    "# Number of terms in cosine Taylor series approximation\n",
    "n = 4\n",
    "# pi approximation\n",
    "PI = 3.141592654\n",
    "\n",
    "#\n",
    "# Physical parameters\n",
    "#\n",
    "# Gravitational acceleration in m/s^2\n",
    "g = 9.8\n",
    "# Initial position\n",
    "x_0 = 0\n",
    "y_0 = 0\n",
    "\n",
    "# \n",
    "# Plot parameters\n",
    "#\n",
    "# Min and max values for axes\n",
    "x_max = 1000\n",
    "x_min = -x_max\n",
    "y_max = 500\n",
    "y_min = -y_max"
   ]
  },
  {
   "cell_type": "markdown",
   "id": "57478d5e",
   "metadata": {},
   "source": [
    "## Math functions"
   ]
  },
  {
   "cell_type": "code",
   "execution_count": 52,
   "id": "92ea27fe",
   "metadata": {},
   "outputs": [],
   "source": [
    "# Cosine from Taylor series approximation\n",
    "#   Assume -pi <= theta <= +pi, so no need to shift theta\n",
    "#   Accuracy is improved if instead -pi/2 <= theta <= +pi/2\n",
    "def cosine_n_terms(theta,n):\n",
    "    # n = number of terms (not order)\n",
    "    # 2(n-1) = order\n",
    "    # cosine(theta) ~= ((-1)^n)*(theta^(2n))/(2n)!\n",
    "    #               ~= 1 - theta^2/2! + theta^4/4! - theta^6/6! + ...\n",
    "    cos_nth = 0\n",
    "\n",
    "    for i in range(n):\n",
    "        power_neg_one = (-1)**i\n",
    "        power_theta = theta**(2*i)\n",
    "        fact = np.math.factorial(2*i)   \n",
    "        cos_nth += power_neg_one * power_theta / fact\n",
    "    return cos_nth\n",
    "\n",
    "\n",
    "# Cosine approximation: \n",
    "#   To allow using fewer (n = 4, or maybe 3?) terms in Taylor series and still be accurate:\n",
    "#   If theta_0 is in 2nd/3rd quadrant:\n",
    "#     (1) move angle to 1st/4th quadrant for cosine approximation \n",
    "#         (more accurate if -pi/2 <= theta <= +pi/2)\n",
    "#     (2) force negative sign for cosine(theta)\n",
    "def cosine_approx(theta, PI, n):\n",
    "    if theta >= PI/2:\n",
    "        # If in 2nd quadrant, move to 1st, but force cos_theta to be negative:\n",
    "        theta = PI - theta      \n",
    "        cos_theta = -cosine_n_terms(theta, n)\n",
    "    else:\n",
    "        if theta <= -PI/2:\n",
    "            # If in 3rd quadrant, move to 4th, but force cos_theta to be negative:\n",
    "            theta = -PI - theta\n",
    "            cos_theta = -cosine_n_terms(theta, n)\n",
    "            \n",
    "        else:\n",
    "            # If in 1st or 4th quadrant, all is good\n",
    "            cos_theta = cosine_n_terms(theta, n)  \n",
    "    \n",
    "    return cos_theta\n",
    "\n",
    "\n",
    "# Sine approximation: need to force correct signs\n",
    "def sine_approx(theta, cos_theta):\n",
    "    if theta >= 0:\n",
    "        # If theta >= 0, then sin_theta >= 0\n",
    "        sin_theta = (1 - cos_theta**2)**0.5\n",
    "    else:\n",
    "        # If theta < 0, then sin_theta < 0\n",
    "        sin_theta = -(1 - cos_theta**2)**0.5\n",
    "\n",
    "    return sin_theta"
   ]
  },
  {
   "cell_type": "markdown",
   "id": "54318202",
   "metadata": {},
   "source": [
    "## Physics functions"
   ]
  },
  {
   "cell_type": "code",
   "execution_count": 53,
   "id": "c29aebb5",
   "metadata": {},
   "outputs": [],
   "source": [
    "# Time of projectile in plot area\n",
    "def time_in_plot(theta_0_deg, x_0, y_0, x_min, x_max, y_min, v_0x, v_0y, g):  \n",
    "    \n",
    "    # Max time needed for y-direction\n",
    "    t_max_y = (v_0y + (v_0y**2 - 2 * g * (y_min - y_0))**0.5) / g\n",
    "    \n",
    "    print ('t_max_y = ', t_max_y)\n",
    "\n",
    "    #\n",
    "    # Find max time needed for x_direction, t_max_x\n",
    "    # Then t_max is minimum of t_max_x and t_max_y\n",
    "    #\n",
    "    # Check if abs(theta_0_deg) <, =, or > 90 degrees \n",
    "    # Use theta_0_deg because calculated theta_0 in radians is slightly rounded\n",
    "    # Then find t_max_x, and then t_max\n",
    "    if abs(theta_0_deg) <= 90:\n",
    "        if abs(theta_0_deg) == 90:\n",
    "            # abs(theta_0_deg) = 90, so v_0x = 0, so t_max_x = infinite, so\n",
    "            t_max = t_max_y\n",
    "        \n",
    "            print ('t_max_x is ~infinite')\n",
    "        \n",
    "        else:\n",
    "            # abs(theta_0_deg) < 90, so v_0x > 0, so projectile moves toward x_max\n",
    "            t_max_x = (x_max - x_0) / v_0x      \n",
    "            t_max = min(t_max_x, t_max_y)\n",
    "            \n",
    "            print ('t_max_x = ', t_max_x)\n",
    "        \n",
    "    else:\n",
    "        # abs(theta_0_deg) > 90, so v_0x < 0, so projectile moves toward x_min\n",
    "        t_max_x = (x_min - x_0) / v_0x\n",
    "        t_max = min(t_max_x, t_max_y)\n",
    "            \n",
    "        print ('t_max_x = ', t_max_x)\n",
    "    \n",
    "\n",
    "    print ('t_max = ', t_max)\n",
    "    \n",
    "    return t_max\n",
    "\n",
    "# Horizontal position\n",
    "def x_value(x_0, v_0x, t):\n",
    "    x = x_0 + v_0x * t\n",
    "    return x\n",
    "\n",
    "# Vertical position\n",
    "def y_value(y_0, v_0y, g, t):\n",
    "    y = y_0 + v_0y * t - 0.5 * g * t**2\n",
    "    return y"
   ]
  },
  {
   "cell_type": "markdown",
   "id": "2081be1b",
   "metadata": {},
   "source": [
    "## Projectile calculations"
   ]
  },
  {
   "cell_type": "code",
   "execution_count": 54,
   "id": "df8f26d3",
   "metadata": {},
   "outputs": [
    {
     "name": "stdout",
     "output_type": "stream",
     "text": [
      "theta_0 =  0.43633231305555553\n",
      "v_0x =  90.6307754496346\n",
      "v_0y =  42.261833152359934\n",
      "t_max_y =  15.29595987968376\n",
      "t_max_x =  11.03377958578453\n",
      "t_max =  11.03377958578453\n",
      "x_s = [   0.           52.63157895  105.26315789  157.89473684  210.52631579\n",
      "  263.15789474  315.78947368  368.42105263  421.05263158  473.68421053\n",
      "  526.31578947  578.94736842  631.57894737  684.21052632  736.84210526\n",
      "  789.47368421  842.10526316  894.73684211  947.36842105 1000.        ]\n",
      "y_s = [   0.           22.89002841   42.47508712   58.75517613   71.73029544\n",
      "   81.40044506   87.76562498   90.82583519   90.58107572   87.03134654\n",
      "   80.17664766   70.01697909   56.55234081   39.78273284   19.70815517\n",
      "   -3.6713922   -30.35590926  -60.34539603  -93.63985249 -130.23927865]\n"
     ]
    }
   ],
   "source": [
    "# Convert launch angle to radians\n",
    "theta_0 = theta_0_deg * PI / 180\n",
    "print ('theta_0 = ', theta_0)\n",
    "\n",
    "# Trig function approximations\n",
    "cos_theta_0 = cosine_approx(theta_0, PI, n)\n",
    "sin_theta_0 = sine_approx(theta_0, cos_theta_0)\n",
    "    \n",
    "# Initial velocity vector components\n",
    "v_0x = v_0 * cos_theta_0\n",
    "v_0y = v_0 * sin_theta_0\n",
    "\n",
    "print ('v_0x = ', v_0x)\n",
    "print ('v_0y = ', v_0y)\n",
    "\n",
    "# Total time projectile remains in plot area\n",
    "t_max = time_in_plot(theta_0_deg, x_0, y_0, x_min, x_max, y_min, v_0x, v_0y, g)    \n",
    "    \n",
    "# Time values array, evenly spaced\n",
    "t_s = np.linspace(0, t_max, num_pts)\n",
    "\n",
    "# Horizontal positions array\n",
    "x_s = x_value(x_0, v_0x, t_s)   \n",
    "\n",
    "# Vertical positions array\n",
    "y_s = y_value(y_0, v_0y, g, t_s)\n",
    "\n",
    "print ('x_s =', x_s)\n",
    "print ('y_s =', y_s)"
   ]
  },
  {
   "cell_type": "markdown",
   "id": "213d92b8",
   "metadata": {},
   "source": [
    "## Plot"
   ]
  },
  {
   "cell_type": "code",
   "execution_count": 55,
   "id": "f9a52462",
   "metadata": {
    "scrolled": false
   },
   "outputs": [
    {
     "data": {
      "image/png": "[encoded data removed]",
      "text/plain": [
       "<Figure size 640x480 with 1 Axes>"
      ]
     },
     "metadata": {},
     "output_type": "display_data"
    }
   ],
   "source": [
    "fig, ax = plt.subplots()\n",
    "\n",
    "# Labels\n",
    "ax.set_xlabel('x (m)')\n",
    "ax.set_ylabel('y (m)')\n",
    "ax.set_title('Projectile path')\n",
    "\n",
    "# Ranges of axes\n",
    "plt.xlim(x_min, x_max)\n",
    "plt.ylim(y_min, y_max)\n",
    "\n",
    "# Grid lines\n",
    "plt.grid()\n",
    "\n",
    "ax.plot(x_s, y_s, 'b.')\n",
    "\n",
    "plt.show()"
   ]
  }
 ],
 "metadata": {
  "kernelspec": {
   "display_name": "Python 3 (ipykernel)",
   "language": "python",
   "name": "python3"
  },
  "language_info": {
   "codemirror_mode": {
    "name": "ipython",
    "version": 3
   },
   "file_extension": ".py",
   "mimetype": "text/x-python",
   "name": "python",
   "nbconvert_exporter": "python",
   "pygments_lexer": "ipython3",
   "version": "3.9.13"
  }
 },
 "nbformat": 4,
 "nbformat_minor": 5
}
