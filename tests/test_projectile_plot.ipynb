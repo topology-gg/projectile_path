{
 "cells": [
  {
   "cell_type": "markdown",
   "id": "9afa1d68",
   "metadata": {},
   "source": [
    "## Imports"
   ]
  },
  {
   "cell_type": "code",
   "execution_count": 75,
   "id": "4cfb0384",
   "metadata": {
    "scrolled": false
   },
   "outputs": [],
   "source": [
    "import json\n",
    "import numpy as np\n",
    "import matplotlib.pyplot as plt"
   ]
  },
  {
   "cell_type": "markdown",
   "id": "26986f52",
   "metadata": {},
   "source": [
    "## Import arrays from .json files\n",
    "\n",
    "Results for calculations done in Cairo and in Python are each in two separate .json files"
   ]
  },
  {
   "cell_type": "code",
   "execution_count": 76,
   "id": "db9bfb8b",
   "metadata": {
    "scrolled": false
   },
   "outputs": [],
   "source": [
    "# Fixed point math constants\n",
    "SCALE_FP = 10**20\n",
    "\n",
    "# Constants for felts\n",
    "PRIME = 3618502788666131213697322783095070105623107215331596699973092056135872020481\n",
    "HALF_PRIME = (\n",
    "    1809251394333065606848661391547535052811553607665798349986546028067936010240\n",
    ")\n",
    "\n",
    "# Cairo-calculated data\n",
    "with open('test_projectile_plot_cairo.json') as json_file_cairo:\n",
    "    data_cairo = json.load(json_file_cairo)\n",
    "    \n",
    "    # Position coordinate arrays\n",
    "    x_s_cairo_fp_felt = np.array(data_cairo[0])\n",
    "    y_s_cairo_fp_felt = np.array(data_cairo[1])\n",
    "    \n",
    "    # Find num_pts = array length \n",
    "    num_pts = len(x_s_cairo_fp_felt)\n",
    "    \n",
    "    # Declare empty arrays with dimensions\n",
    "    x_s_cairo = np.empty(num_pts)\n",
    "    y_s_cairo = np.empty(num_pts)\n",
    "    \n",
    "    # Convert fixed point felt values to decimal values, to match python results\n",
    "    for p in range(0, num_pts):\n",
    "\n",
    "        if x_s_cairo_fp_felt[p] <= HALF_PRIME:\n",
    "            x_s_cairo[p] = x_s_cairo_fp_felt[p] / SCALE_FP\n",
    "        else:\n",
    "            x_s_cairo[p] = (x_s_cairo_fp_felt[p] - PRIME) / SCALE_FP\n",
    "\n",
    "        if y_s_cairo_fp_felt[p] <= HALF_PRIME:\n",
    "            y_s_cairo[p] = y_s_cairo_fp_felt[p] / SCALE_FP\n",
    "        else:\n",
    "            y_s_cairo[p] = (y_s_cairo_fp_felt[p] - PRIME) / SCALE_FP\n",
    "\n",
    "# Python-calculated data\n",
    "with open('test_projectile_plot_python.json') as json_file_python:\n",
    "    data_python = json.load(json_file_python)\n",
    "\n",
    "    # Position coordinate arrays\n",
    "    x_s_python = np.array(data_python[0])\n",
    "    y_s_python = np.array(data_python[1])"
   ]
  },
  {
   "cell_type": "markdown",
   "id": "82e30484",
   "metadata": {},
   "source": [
    "## Create plots"
   ]
  },
  {
   "cell_type": "code",
   "execution_count": 77,
   "id": "6aa22a99",
   "metadata": {
    "scrolled": false
   },
   "outputs": [
    {
     "data": {
      "image/png": "[encoded data removed]",
      "text/plain": [
       "<Figure size 640x480 with 2 Axes>"
      ]
     },
     "metadata": {},
     "output_type": "display_data"
    }
   ],
   "source": [
    "# Create a Figure 'fig' and Axes 'ax'. \n",
    "# Subplots args included (nrows, ncols)\n",
    "fig, ax_s = plt.subplots(1,2)\n",
    "\n",
    "# Reduce default font size for plots\n",
    "plt.rcParams.update({'font.size':8})\n",
    "            \n",
    "# Create plot titles\n",
    "title_str_cairo = 'Cairo-calculated projectile path'\n",
    "title_str_python = 'Python-calculated projectile path'\n",
    "\n",
    "# Axes title (reduce pad from default of 6)\n",
    "ax_s[0].set_title(title_str_cairo, pad=2)\n",
    "ax_s[1].set_title(title_str_python, pad=2)\n",
    "\n",
    "# Axes labels\n",
    "ax_s[0].set_xlabel('x (m)')\n",
    "ax_s[0].set_ylabel('y (m)')\n",
    "ax_s[1].set_xlabel('x (m)')\n",
    "ax_s[1].set_ylabel('y (m)')\n",
    "\n",
    "# Min and max values for axes\n",
    "x_max = 1000\n",
    "x_min = -x_max\n",
    "y_max = 500\n",
    "y_min = -y_max\n",
    "# Ranges of axes\n",
    "ax_s[0].set_xlim(x_min, x_max)\n",
    "ax_s[0].set_ylim(y_min, y_max)\n",
    "ax_s[1].set_xlim(x_min, x_max)\n",
    "ax_s[1].set_ylim(y_min, y_max)\n",
    "\n",
    "# Grid lines\n",
    "#plt.grid()\n",
    "    \n",
    "ax_s[0].plot(x_s_cairo, y_s_cairo, 'b.')\n",
    "ax_s[1].plot(x_s_python, y_s_python, 'g.')\n",
    "\n",
    "plt.show()"
   ]
  }
 ],
 "metadata": {
  "kernelspec": {
   "display_name": "Python 3 (ipykernel)",
   "language": "python",
   "name": "python3"
  },
  "language_info": {
   "codemirror_mode": {
    "name": "ipython",
    "version": 3
   },
   "file_extension": ".py",
   "mimetype": "text/x-python",
   "name": "python",
   "nbconvert_exporter": "python",
   "pygments_lexer": "ipython3",
   "version": "3.9.13"
  }
 },
 "nbformat": 4,
 "nbformat_minor": 5
}
